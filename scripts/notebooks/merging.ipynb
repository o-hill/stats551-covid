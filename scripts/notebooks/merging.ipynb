{
 "cells": [
  {
   "cell_type": "code",
   "execution_count": 3,
   "metadata": {},
   "outputs": [],
   "source": [
    "import numpy as np\n",
    "import pandas as pd"
   ]
  },
  {
   "cell_type": "code",
   "execution_count": 4,
   "metadata": {},
   "outputs": [],
   "source": [
    "for interp_type in ['linear', 'cubic', 'ncs', 'polynomial', 'fakenodes']:\n",
    "    pop_df = pd.read_csv('../../data/population-by-' + interp_type + '.csv', index_col=0)\n",
    "    states_list = list(pop_df.index)\n",
    "    monthly_deaths = pd.read_csv('../../data/month-deaths.csv').drop(\"Unnamed: 0\", 1)\n",
    "    pop_df = pd.melt(pop_df)\n",
    "    pop_df.index = states_list*13\n",
    "    pop_df = pop_df.rename(columns={\"variable\": \"Date\", \"value\": \"Population\"})\n",
    "    pop_df[\"Month\"] = pd.DataFrame(pop_df[\"Date\"].apply(lambda x: x.split(\"/\")[0]).astype(\"int\"))\n",
    "    pop_df[\"Year\"] = (\"20\" + pd.DataFrame(pop_df[\"Date\"].apply(lambda x: x.split(\"/\")[1]))).astype(\"int\")\n",
    "    pop_df[\"State\"] = pop_df.index\n",
    "    pop_and_deaths_df = pd.merge(monthly_deaths, pop_df.drop(\"Date\", 1), how=\"inner\", on=[\"Month\",\"Year\",\"State\"])\n",
    "    \n",
    "    # removing total metric rows\n",
    "\n",
    "    pop_and_deaths_df = pop_and_deaths_df[pop_and_deaths_df['Sex'] != \"All Sexes\"]\n",
    "    pop_and_deaths_df = pop_and_deaths_df[pop_and_deaths_df['Age Group'] != \"All Ages\"]\n",
    "    pop_and_deaths_df = pop_and_deaths_df[pop_and_deaths_df['Age Group'] != \"0-17 years\"]\n",
    "    pop_and_deaths_df = pop_and_deaths_df[pop_and_deaths_df['State'] != \"United States\"]\n",
    "\n",
    "    # removing states not covered in population interpolations\n",
    "\n",
    "    pop_and_deaths_df = pop_and_deaths_df[pop_and_deaths_df['State'] != \"Puerto Rico\"]\n",
    "    pop_and_deaths_df = pop_and_deaths_df[pop_and_deaths_df['State'] != \"New York City\"]\n",
    "    \n",
    "    # save merged data set\n",
    "\n",
    "    pop_and_deaths_df.to_csv(\"../../data/monthly-deaths-with-population-by-\" + interp_type + \".csv\")\n",
    "    \n",
    "    # melting the mandate data set\n",
    "\n",
    "    mandates_df = pd.read_csv(\"../../data/mandates_binary.csv\")\n",
    "    mandates_df.columns = [\"State\"] + list(pop_df[\"Date\"].unique())+[\"Mandate Source\"]\n",
    "    mandates_df = mandates_df.set_index(\"State\").drop(\"Mandate Source\", 1)\n",
    "    mandates_df = mandates_df.melt()\n",
    "    mandates_df.index = states_list*13\n",
    "    mandates_df = mandates_df.rename(columns={\"variable\": \"Date\", \"value\": \"Mandate\"})\n",
    "    mandates_df[\"Month\"] = pd.DataFrame(mandates_df[\"Date\"].apply(lambda x: x.split(\"/\")[0]).astype(\"int\"))\n",
    "    mandates_df[\"Year\"] = (\"20\" + pd.DataFrame(mandates_df[\"Date\"].apply(lambda x: x.split(\"/\")[1]))).astype(\"int\")\n",
    "    mandates_df[\"State\"] = mandates_df.index\n",
    "    mandates_df = mandates_df.drop(\"Date\", 1)\n",
    "    \n",
    "    # melting the non-binary mandate data set\n",
    "\n",
    "    fluid_mandates_df = pd.read_csv(\"../../data/mandates_nonbinary.csv\")\n",
    "    fluid_mandates_df.columns = [\"State\"] + list(pop_df[\"Date\"].unique())+[\"Mandate Source\"]\n",
    "    fluid_mandates_df = fluid_mandates_df.set_index(\"State\").drop(\"Mandate Source\", 1)\n",
    "    fluid_mandates_df = fluid_mandates_df.melt()\n",
    "    fluid_mandates_df.index = states_list*13\n",
    "    fluid_mandates_df = fluid_mandates_df.rename(columns={\"variable\": \"Date\", \"value\": \"Mandate\"})\n",
    "    fluid_mandates_df[\"Month\"] = pd.DataFrame(fluid_mandates_df[\"Date\"].apply(lambda x: x.split(\"/\")[0]).astype(\"int\"))\n",
    "    fluid_mandates_df[\"Year\"] = (\"20\" + pd.DataFrame(fluid_mandates_df[\"Date\"].apply(lambda x: x.split(\"/\")[1]))).astype(\"int\")\n",
    "    fluid_mandates_df[\"State\"] = fluid_mandates_df.index\n",
    "    fluid_mandates_df = fluid_mandates_df.drop(\"Date\", 1)\n",
    "    \n",
    "    # save final merged datasets\n",
    "    \n",
    "    pop_deaths_mandates_df = pd.merge(pop_and_deaths_df, mandates_df, how=\"inner\", on=[\"Month\",\"Year\",\"State\"])\n",
    "    pop_deaths_mandates_df.to_csv(\"../../data/\" + interp_type + \"-pop-deaths-and-binary-mandates.csv\")\n",
    "    pop_deaths_fluid_mandates_df = pd.merge(pop_and_deaths_df, fluid_mandates_df, how=\"inner\", on=[\"Month\",\"Year\",\"State\"])\n",
    "    pop_deaths_fluid_mandates_df.to_csv(\"../../data/\" + interp_type + \"-pop-deaths-and-nonbinary-mandates.csv\")"
   ]
  },
  {
   "cell_type": "code",
   "execution_count": null,
   "metadata": {},
   "outputs": [],
   "source": []
  }
 ],
 "metadata": {
  "kernelspec": {
   "display_name": "Python 3",
   "language": "python",
   "name": "python3"
  },
  "language_info": {
   "codemirror_mode": {
    "name": "ipython",
    "version": 3
   },
   "file_extension": ".py",
   "mimetype": "text/x-python",
   "name": "python",
   "nbconvert_exporter": "python",
   "pygments_lexer": "ipython3",
   "version": "3.7.8"
  }
 },
 "nbformat": 4,
 "nbformat_minor": 4
}
