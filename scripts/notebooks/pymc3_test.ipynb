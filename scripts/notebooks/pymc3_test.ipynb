{
 "cells": [
  {
   "cell_type": "code",
   "execution_count": null,
   "metadata": {},
   "outputs": [],
   "source": [
    "import numpy as np\n",
    "import pandas as pd\n",
    "import pymc3 as pm\n",
    "import theano\n",
    "import theano.tensor as tt"
   ]
  },
  {
   "cell_type": "code",
   "execution_count": null,
   "metadata": {},
   "outputs": [],
   "source": [
    "df = pd.read_csv('stats551-covid/data/ncs-pop-deaths-and-binary-mandates.csv', index_col=0)\n",
    "df = df.rename(columns={\"Age Group\": \"Age_Group\", \"COVID-19 Deaths\": \"covid_19_deaths\"})\n",
    "test_df = df[df[\"Month\"]==7]\n",
    "sex = np.array(test_df[\"Sex\"])\n",
    "mandate = test_df[\"Mandate\"]\n",
    "age = test_df[\"Age_Group\"]\n",
    "covid_deaths = test_df[\"covid_19_deaths\"]\n",
    "population = test_df[\"Population\"]/1000000 # makes the population in units of millions\n",
    "n = len(test_df[\"Age_Group\"].unique()) # should decrease by 1 after proper age filtering"
   ]
  },
  {
   "cell_type": "code",
   "execution_count": null,
   "metadata": {},
   "outputs": [],
   "source": [
    "pd.get_dummies(test_df[\"Age_Group\"])"
   ]
  },
  {
   "cell_type": "code",
   "execution_count": null,
   "metadata": {},
   "outputs": [],
   "source": [
    "age_data = pd.get_dummies(test_df[\"Age_Group\"], drop_first=True)\n",
    "sex_data = pd.get_dummies(test_df[\"Sex\"], drop_first=True)\n",
    "analysis_df = pd.concat([age_data, sex_data, mandate, covid_deaths, population], axis=1)\n",
    "analysis_df"
   ]
  },
  {
   "cell_type": "code",
   "execution_count": null,
   "metadata": {
    "scrolled": false
   },
   "outputs": [],
   "source": [
    "# First Manual Attempt\n",
    "\n",
    "# with pm.Model() as model:\n",
    "    \n",
    "# #     alpha = pm.DiscreteUniform('alpha', lower=0, upper=n, shape=len(age_data.columns))\n",
    "# #     delta = pm.Normal('delta', mu=1, sigma=.1)\n",
    "#     beta = pm.Normal('beta', mu=1, sigma=.1)\n",
    "    \n",
    "#     mean = pm.math.matrix_dot(mandate, beta)\n",
    "#     print(type(mean))\n",
    "    \n",
    "#     obs = pm.Poisson('y_obs', mu=population*tt.exp(mean), observed=covid_deaths)\n",
    "#     trace = pm.sample(1000)"
   ]
  },
  {
   "cell_type": "code",
   "execution_count": null,
   "metadata": {},
   "outputs": [],
   "source": [
    "with pm.Model() as model:\n",
    "    \n",
    "    # Parameters I have excluded for now.\n",
    "#     alpha = pm.DiscreteUniform('alpha', lower=0, upper=n, shape=len(age_data.columns))\n",
    "#     delta = pm.Normal('delta', mu=1, sigma=.1)\n",
    "\n",
    "    # spike and slab prior\n",
    "    tau = pm.InverseGamma('tau', alpha=20, beta=20)\n",
    "    xi = pm.Bernoulli('xi', p=0.8)\n",
    "    beta = pm.Normal('beta', mu=0, sigma=tau)\n",
    "    \n",
    "    # mean setup for likelihood\n",
    "    mandate = np.array(mandate).astype(theano.config.floatX)\n",
    "    population = np.array(population).astype(theano.config.floatX)\n",
    "    w = theano.shared(mandate, 'w')\n",
    "    mean = pm.math.matrix_dot(w, xi*beta)\n",
    "    \n",
    "    # likelihood\n",
    "    obs = pm.Poisson('y_obs', mu=population*tt.exp(mean), observed=covid_deaths)\n",
    "    \n",
    "    # sample from posterior\n",
    "    trace = pm.sample(1000)"
   ]
  },
  {
   "cell_type": "code",
   "execution_count": 65,
   "metadata": {},
   "outputs": [],
   "source": [
    "# Garbage Test Code\n",
    "\n",
    "# import numpy as np\n",
    "# import theano\n",
    "# import theano.tensor as tt\n",
    "# w_values = np.random.randn(1152, 10).astype(theano.config.floatX)\n",
    "# input_values = np.random.randn(1152, 1).astype(theano.config.floatX)\n",
    "# print(type(input_values))\n",
    "# w = theano.shared(w_values, 'w')\n",
    "# input = theano.shared(input_values, 'input')\n",
    "# print(type(input))\n",
    "# result = tt.exp(input.T)\n",
    "# print(result.eval())"
   ]
  },
  {
   "cell_type": "code",
   "execution_count": null,
   "metadata": {},
   "outputs": [],
   "source": [
    "# Manual Attempt\n",
    "\n",
    "# with pm.Model() as model:\n",
    "#     tau = pm.InverseGamma(r'$\\tau$', alpha=20, beta=20)\n",
    "#     Z = pm.Normal(\"Z\", mu=0, sigma=1) # should these multivariate?\n",
    "#     eps = pm.HalfCauchy(r'$\\eps', beta=5)\n",
    "#     Xi = pm.Bernoulli(r'$\\Xi', p=0.8)\n",
    "#     alpha = pm.DiscreteUniform(r'$\\alpha$', lower=0, upper=n)\n",
    "#     beta = Xi*Z\n",
    "#     mean = age*alpha #+ pm.math.dot(sex,delta) + pm.math.dot(mandate, Xi)\n",
    "    \n",
    "    # obs = pm.Poisson('y', mu=population*mean, observed=covid_deaths)"
   ]
  },
  {
   "cell_type": "code",
   "execution_count": null,
   "metadata": {},
   "outputs": [],
   "source": [
    "# # GLM Attempt\n",
    "\n",
    "# with pm.Model() as model_glm:\n",
    "#     priors = {\n",
    "#         \"age\": pm.DiscreteUniform.dist(lower=0, upper=n, shape=15),\n",
    "#         \"Sex\": pm.Bernoulli.dist(p=0.5, shape=2),\n",
    "#         \"Mandate\": pm.Normal.dist(0, 0.05)\n",
    "#     }\n",
    "#     pm.GLM.from_formula(\"covid_19_deaths ~ .\", test_df, family='poisson', priors=priors)\n",
    "#     trace = pm.sample(2000, tune=1500)"
   ]
  }
 ],
 "metadata": {
  "kernelspec": {
   "display_name": "Python 3",
   "language": "python",
   "name": "python3"
  },
  "language_info": {
   "codemirror_mode": {
    "name": "ipython",
    "version": 3
   },
   "file_extension": ".py",
   "mimetype": "text/x-python",
   "name": "python",
   "nbconvert_exporter": "python",
   "pygments_lexer": "ipython3",
   "version": "3.7.8"
  }
 },
 "nbformat": 4,
 "nbformat_minor": 4
}
